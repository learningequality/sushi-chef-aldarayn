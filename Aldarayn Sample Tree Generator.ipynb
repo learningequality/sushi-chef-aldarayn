{
 "cells": [
  {
   "cell_type": "code",
   "execution_count": 1,
   "metadata": {},
   "outputs": [],
   "source": [
    "from csvstructure import load_aldarayn_structure\n",
    "\n",
    "from csvstructure import (\n",
    "    L1_KEY,\n",
    "    L2_KEY,\n",
    "    L3_KEY,\n",
    "    L4_KEY,\n",
    "    TITLE_KEY,\n",
    "    SEPARATOR_KEY,\n",
    "    WEBSITE_CAT1_KEY,\n",
    "    WEBSITE_CAT2_KEY,\n",
    "    WEBSITE_TITLE_KEY,\n",
    "    WEBSITE_URL_KEY,\n",
    "    WEBSITE_CATID_KEY,\n",
    "    CATEGORY_TRANS_KEY,\n",
    "    COURSE_TRANS_KEY)"
   ]
  },
  {
   "cell_type": "code",
   "execution_count": 2,
   "metadata": {},
   "outputs": [
    {
     "name": "stderr",
     "output_type": "stream",
     "text": [
      "Unrecognized structure row {'Level 1 Topic *': 'دروس طلاب المدارس', 'Level 2 Topic *': None, 'Level 3 Topic': None, 'Level 4 Topic': None, 'Title *': '1288- تأهيل مدرس محو أمية', '-': None, 'Website Category Level 1 *': 'دروس طلاب المدارس', 'Website Category Level 2': 'محو الأمية', 'Website Course Title *': '1288- تأهيل مدرس محو أمية', 'Course URL *': 'https://www.aldarayn.com/course/view.php?id=131', 'Category ID *': '31', 'Combined Category Trans': 'Schools / literacy classes students', 'Course Trans': '1288- rehabilitation literacy teacher'}\n",
      "Unrecognized structure row {'Level 1 Topic *': 'دروس طلاب المدارس', 'Level 2 Topic *': None, 'Level 3 Topic': None, 'Level 4 Topic': None, 'Title *': '1279- كتائب النور لإعداد مدرب محو أمية', '-': None, 'Website Category Level 1 *': 'دروس طلاب المدارس', 'Website Category Level 2': 'محو الأمية', 'Website Course Title *': '1279- كتائب النور لإعداد مدرب محو أمية', 'Course URL *': 'https://www.aldarayn.com/course/view.php?id=130', 'Category ID *': '31', 'Combined Category Trans': 'Schools / literacy classes students', 'Course Trans': '1279- light battalions to prepare literacy coach illiteracy'}\n",
      "Unrecognized structure row {'Level 1 Topic *': 'دروس طلاب المدارس', 'Level 2 Topic *': None, 'Level 3 Topic': None, 'Level 4 Topic': None, 'Title *': '1278- اعداد مدرب محو أمية', '-': None, 'Website Category Level 1 *': 'دروس طلاب المدارس', 'Website Category Level 2': 'محو الأمية', 'Website Course Title *': '1278- اعداد مدرب محو أمية', 'Course URL *': 'https://www.aldarayn.com/course/view.php?id=129', 'Category ID *': '31', 'Combined Category Trans': 'Schools / literacy classes students', 'Course Trans': '1278- prepare literacy coach'}\n",
      "Unrecognized structure row {'Level 1 Topic *': 'دروس طلاب المدارس', 'Level 2 Topic *': None, 'Level 3 Topic': None, 'Level 4 Topic': None, 'Title *': '1238- الدراسات الاجتماعية للصف السادس الإبتدائي', '-': None, 'Website Category Level 1 *': 'دروس طلاب المدارس', 'Website Category Level 2': 'المرحلة الإبتدائية', 'Website Course Title *': '1238- الدراسات الاجتماعية للصف السادس الإبتدائي', 'Course URL *': 'https://www.aldarayn.com/course/view.php?id=206', 'Category ID *': '9', 'Combined Category Trans': 'School / Elementary students lessons', 'Course Trans': '1238- Social Studies sixth-grade primary'}\n",
      "Unrecognized structure row {'Level 1 Topic *': 'دروس طلاب المدارس', 'Level 2 Topic *': None, 'Level 3 Topic': None, 'Level 4 Topic': None, 'Title *': '1423- العلوم باللغة الانجليزية لمدارس اللغات للمرحلتين الابتدائية و الاعدادية', '-': None, 'Website Category Level 1 *': 'دروس طلاب المدارس', 'Website Category Level 2': 'المرحلة الإعدادية', 'Website Course Title *': '1423- العلوم باللغة الانجليزية لمدارس اللغات للمرحلتين الابتدائية و الاعدادية', 'Course URL *': 'https://www.aldarayn.com/course/view.php?id=368', 'Category ID *': '10', 'Combined Category Trans': 'School / middle school students lessons', 'Course Trans': '1423 Science in English language schools for elementary and preparatory stages'}\n",
      "Unrecognized structure row {'Level 1 Topic *': 'دروس طلاب المدارس', 'Level 2 Topic *': None, 'Level 3 Topic': None, 'Level 4 Topic': None, 'Title *': '1282- اللغة الإنجليزية للصف الثالث الإعدادي', '-': None, 'Website Category Level 1 *': 'دروس طلاب المدارس', 'Website Category Level 2': 'المرحلة الإعدادية', 'Website Course Title *': '1282- اللغة الإنجليزية للصف الثالث الإعدادي', 'Course URL *': 'https://www.aldarayn.com/course/view.php?id=295', 'Category ID *': '10', 'Combined Category Trans': 'School / middle school students lessons', 'Course Trans': '1282- English Third Intermediate grade'}\n",
      "Unrecognized structure row {'Level 1 Topic *': 'دروس طلاب المدارس', 'Level 2 Topic *': None, 'Level 3 Topic': None, 'Level 4 Topic': None, 'Title *': '1257- الدراسات الإجتماعية للصف الثالث الإعدادى عام ولغات - الترم الأول', '-': None, 'Website Category Level 1 *': 'دروس طلاب المدارس', 'Website Category Level 2': 'المرحلة الإعدادية', 'Website Course Title *': '1257- الدراسات الإجتماعية للصف الثالث الإعدادى عام ولغات - الترم الأول', 'Course URL *': 'https://www.aldarayn.com/course/view.php?id=242', 'Category ID *': '10', 'Combined Category Trans': 'School / middle school students lessons', 'Course Trans': '1257- Social Studies for the third grade in middle school languages \\u200b\\u200b- the first semester'}\n",
      "Unrecognized structure row {'Level 1 Topic *': 'دروس طلاب المدارس', 'Level 2 Topic *': None, 'Level 3 Topic': None, 'Level 4 Topic': None, 'Title *': '1253- اللغة الإنجليزية للصف الثالث الإعدادي', '-': None, 'Website Category Level 1 *': 'دروس طلاب المدارس', 'Website Category Level 2': 'المرحلة الإعدادية', 'Website Course Title *': '1253- اللغة الإنجليزية للصف الثالث الإعدادي', 'Course URL *': 'https://www.aldarayn.com/course/view.php?id=238', 'Category ID *': '10', 'Combined Category Trans': 'School / middle school students lessons', 'Course Trans': '1253- English Third Intermediate grade'}\n",
      "Unrecognized structure row {'Level 1 Topic *': 'دروس طلاب المدارس', 'Level 2 Topic *': None, 'Level 3 Topic': None, 'Level 4 Topic': None, 'Title *': '1250- اللغة الانجليزية للصف الثالث الإعدادي - الترم الثاني', '-': None, 'Website Category Level 1 *': 'دروس طلاب المدارس', 'Website Category Level 2': 'المرحلة الإعدادية', 'Website Course Title *': '1250- اللغة الانجليزية للصف الثالث الإعدادي - الترم الثاني', 'Course URL *': 'https://www.aldarayn.com/course/view.php?id=235', 'Category ID *': '10', 'Combined Category Trans': 'School / middle school students lessons', 'Course Trans': '1250- English Language third preparatory grade - second semester'}\n",
      "Unrecognized structure row {'Level 1 Topic *': 'دروس طلاب المدارس', 'Level 2 Topic *': None, 'Level 3 Topic': None, 'Level 4 Topic': None, 'Title *': '1247- اللغة الإنجليزية للصف الأول الإعدادي', '-': None, 'Website Category Level 1 *': 'دروس طلاب المدارس', 'Website Category Level 2': 'المرحلة الإعدادية', 'Website Course Title *': '1247- اللغة الإنجليزية للصف الأول الإعدادي', 'Course URL *': 'https://www.aldarayn.com/course/view.php?id=232', 'Category ID *': '10', 'Combined Category Trans': 'School / middle school students lessons', 'Course Trans': '1247- English first grade preparatory'}\n",
      "Unrecognized structure row {'Level 1 Topic *': 'دروس طلاب المدارس', 'Level 2 Topic *': None, 'Level 3 Topic': None, 'Level 4 Topic': None, 'Title *': '1284- اللغة الإيطالية للصف الأول الثانوي - الترم الثاني', '-': None, 'Website Category Level 1 *': 'دروس طلاب المدارس', 'Website Category Level 2': 'المرحلة الثانوية', 'Website Course Title *': '1284- اللغة الإيطالية للصف الأول الثانوي - الترم الثاني', 'Course URL *': 'https://www.aldarayn.com/course/view.php?id=297', 'Category ID *': '11', 'Combined Category Trans': 'School / high school students lessons', 'Course Trans': '1284- Italian first grade secondary - second semester'}\n",
      "Unrecognized structure row {'Level 1 Topic *': 'دروس طلاب المدارس', 'Level 2 Topic *': None, 'Level 3 Topic': None, 'Level 4 Topic': None, 'Title *': '1277- مراجعة علم نفس وإجتماع للصف الثالث الثانوي', '-': None, 'Website Category Level 1 *': 'دروس طلاب المدارس', 'Website Category Level 2': 'المرحلة الثانوية', 'Website Course Title *': '1277- مراجعة علم نفس وإجتماع للصف الثالث الثانوي', 'Course URL *': 'https://www.aldarayn.com/course/view.php?id=293', 'Category ID *': '11', 'Combined Category Trans': 'School / high school students lessons', 'Course Trans': '1277- review of psychology and the meeting of the third secondary grade'}\n",
      "Unrecognized structure row {'Level 1 Topic *': 'دروس طلاب المدارس', 'Level 2 Topic *': None, 'Level 3 Topic': None, 'Level 4 Topic': None, 'Title *': '1276- اللغة الفرنسية للصف الأول الثانوي', '-': None, 'Website Category Level 1 *': 'دروس طلاب المدارس', 'Website Category Level 2': 'المرحلة الثانوية', 'Website Course Title *': '1276- اللغة الفرنسية للصف الأول الثانوي', 'Course URL *': 'https://www.aldarayn.com/course/view.php?id=292', 'Category ID *': '11', 'Combined Category Trans': 'School / high school students lessons', 'Course Trans': '1276- French first grade secondary'}\n",
      "Unrecognized structure row {'Level 1 Topic *': 'دروس طلاب المدارس', 'Level 2 Topic *': None, 'Level 3 Topic': None, 'Level 4 Topic': None, 'Title *': '1275- اللغة الفرنسية للصف الأول الثانوي', '-': None, 'Website Category Level 1 *': 'دروس طلاب المدارس', 'Website Category Level 2': 'المرحلة الثانوية', 'Website Course Title *': '1275- اللغة الفرنسية للصف الأول الثانوي', 'Course URL *': 'https://www.aldarayn.com/course/view.php?id=291', 'Category ID *': '11', 'Combined Category Trans': 'School / high school students lessons', 'Course Trans': '1275- French first grade secondary'}\n"
     ]
    },
    {
     "name": "stderr",
     "output_type": "stream",
     "text": [
      "Unrecognized structure row {'Level 1 Topic *': 'دروس طلاب المدارس', 'Level 2 Topic *': None, 'Level 3 Topic': None, 'Level 4 Topic': None, 'Title *': '1268- اللغه الفرنسيه للصف الثالث الثانوي - الترم الثاني', '-': None, 'Website Category Level 1 *': 'دروس طلاب المدارس', 'Website Category Level 2': 'المرحلة الثانوية', 'Website Course Title *': '1268- اللغه الفرنسيه للصف الثالث الثانوي - الترم الثاني', 'Course URL *': 'https://www.aldarayn.com/course/view.php?id=284', 'Category ID *': '11', 'Combined Category Trans': 'School / high school students lessons', 'Course Trans': '1268- French Language Secondary third grade - second semester'}\n",
      "Unrecognized structure row {'Level 1 Topic *': 'دروس طلاب المدارس', 'Level 2 Topic *': None, 'Level 3 Topic': None, 'Level 4 Topic': None, 'Title *': '1266- مراجعة مادة الجغرافيا للثانوية العامة', '-': None, 'Website Category Level 1 *': 'دروس طلاب المدارس', 'Website Category Level 2': 'المرحلة الثانوية', 'Website Course Title *': '1266- مراجعة مادة الجغرافيا للثانوية العامة', 'Course URL *': 'https://www.aldarayn.com/course/view.php?id=282', 'Category ID *': '11', 'Combined Category Trans': 'School / high school students lessons', 'Course Trans': '1266- revision geography General secondary'}\n",
      "Unrecognized structure row {'Level 1 Topic *': 'دروس طلاب المدارس', 'Level 2 Topic *': None, 'Level 3 Topic': None, 'Level 4 Topic': None, 'Title *': '1101 _ مراجعة للفرقة الثانية لكلية العلوم الإنسانية والإجتماعية بسطيف الجزائر', '-': None, 'Website Category Level 1 *': 'دروس طلاب المدارس', 'Website Category Level 2': 'طلاب الجامعة', 'Website Course Title *': '1101 _ مراجعة للفرقة الثانية لكلية العلوم الإنسانية والإجتماعية بسطيف الجزائر', 'Course URL *': 'https://www.aldarayn.com/course/view.php?id=72', 'Category ID *': '12', 'Combined Category Trans': 'School / university students classes students', 'Course Trans': '1101 _ review of the second division of the College of Humanities and Social Sciences Bsatif Algeria'}\n",
      "Unrecognized structure row {'Level 1 Topic *': None, 'Level 2 Topic *': None, 'Level 3 Topic': None, 'Level 4 Topic': None, 'Title *': '1331- BCPS Final Revesion', '-': None, 'Website Category Level 1 *': 'العلوم الطبية', 'Website Category Level 2': None, 'Website Course Title *': '1331- BCPS Final Revesion', 'Course URL *': 'https://www.aldarayn.com/course/view.php?id=196', 'Category ID *': '29', 'Combined Category Trans': 'Medical Sciences', 'Course Trans': '1331- BCPS Final Revesion'}\n",
      "Unrecognized structure row {'Level 1 Topic *': None, 'Level 2 Topic *': None, 'Level 3 Topic': None, 'Level 4 Topic': None, 'Title *': '1330- مبادئ الإسعاف الأولي', '-': None, 'Website Category Level 1 *': 'العلوم الطبية', 'Website Category Level 2': None, 'Website Course Title *': '1330- مبادئ الإسعاف الأولي', 'Course URL *': 'https://www.aldarayn.com/course/view.php?id=197', 'Category ID *': '29', 'Combined Category Trans': 'Medical Sciences', 'Course Trans': '1330- principles of first aid'}\n",
      "Unrecognized structure row {'Level 1 Topic *': None, 'Level 2 Topic *': None, 'Level 3 Topic': None, 'Level 4 Topic': None, 'Title *': '1308- Fpgee-Pharmacist', '-': None, 'Website Category Level 1 *': 'العلوم الطبية', 'Website Category Level 2': None, 'Website Course Title *': '1308- Fpgee-Pharmacist', 'Course URL *': 'https://www.aldarayn.com/course/view.php?id=198', 'Category ID *': '29', 'Combined Category Trans': 'Medical Sciences', 'Course Trans': '1308- Fpgee-Pharmacist'}\n",
      "Unrecognized structure row {'Level 1 Topic *': None, 'Level 2 Topic *': None, 'Level 3 Topic': None, 'Level 4 Topic': None, 'Title *': '1570- عيادة مرض السكري', '-': None, 'Website Category Level 1 *': 'العلوم الطبية', 'Website Category Level 2': None, 'Website Course Title *': '1570- عيادة مرض السكري', 'Course URL *': 'https://www.aldarayn.com/course/view.php?id=614', 'Category ID *': '29', 'Combined Category Trans': 'Medical Sciences', 'Course Trans': '1570- Clinic Diabetes'}\n",
      "Unrecognized structure row {'Level 1 Topic *': None, 'Level 2 Topic *': None, 'Level 3 Topic': None, 'Level 4 Topic': None, 'Title *': '1313- أهمية التحكيم التجارى الدولى', '-': None, 'Website Category Level 1 *': 'العلوم القانونية', 'Website Category Level 2': None, 'Website Course Title *': '1313- أهمية التحكيم التجارى الدولى', 'Course URL *': 'https://www.aldarayn.com/course/view.php?id=333', 'Category ID *': '30', 'Combined Category Trans': 'Legal Sciences', 'Course Trans': '1313- the importance of international commercial arbitration'}\n",
      "Unrecognized structure row {'Level 1 Topic *': None, 'Level 2 Topic *': None, 'Level 3 Topic': None, 'Level 4 Topic': None, 'Title *': '1312- القانون الدستورى', '-': None, 'Website Category Level 1 *': 'العلوم القانونية', 'Website Category Level 2': None, 'Website Course Title *': '1312- القانون الدستورى', 'Course URL *': 'https://www.aldarayn.com/course/view.php?id=332', 'Category ID *': '30', 'Combined Category Trans': 'Legal Sciences', 'Course Trans': '1312- Constitutional Law'}\n",
      "Unrecognized structure row {'Level 1 Topic *': None, 'Level 2 Topic *': None, 'Level 3 Topic': None, 'Level 4 Topic': None, 'Title *': '1329-  Renal Disease', '-': None, 'Website Category Level 1 *': 'دورات متنوعة', 'Website Category Level 2': None, 'Website Course Title *': '1329-  Renal Disease', 'Course URL *': 'https://www.aldarayn.com/course/view.php?id=519', 'Category ID *': '22', 'Combined Category Trans': 'A variety of courses', 'Course Trans': '1329- Renal Disease'}\n",
      "Unrecognized structure row {'Level 1 Topic *': None, 'Level 2 Topic *': None, 'Level 3 Topic': None, 'Level 4 Topic': None, 'Title *': '1517 - صالون الدارين', '-': None, 'Website Category Level 1 *': 'دورات متنوعة', 'Website Category Level 2': None, 'Website Course Title *': '1517 - صالون الدارين', 'Course URL *': 'https://www.aldarayn.com/course/view.php?id=599', 'Category ID *': '22', 'Combined Category Trans': 'A variety of courses', 'Course Trans': '1517 - Salon Hereafter'}\n",
      "Unrecognized structure row {'Level 1 Topic *': None, 'Level 2 Topic *': None, 'Level 3 Topic': None, 'Level 4 Topic': None, 'Title *': '1516- مفهوم الموت للأطفال', '-': None, 'Website Category Level 1 *': 'دورات متنوعة', 'Website Category Level 2': None, 'Website Course Title *': '1516- مفهوم الموت للأطفال', 'Course URL *': 'https://www.aldarayn.com/course/view.php?id=512', 'Category ID *': '22', 'Combined Category Trans': 'A variety of courses', 'Course Trans': '1516- The concept of death for children'}\n",
      "Unrecognized structure row {'Level 1 Topic *': None, 'Level 2 Topic *': None, 'Level 3 Topic': None, 'Level 4 Topic': None, 'Title *': '1440- دور فريق العمل في تدريب أسر الأطفال التوحديون', '-': None, 'Website Category Level 1 *': 'دورات متنوعة', 'Website Category Level 2': None, 'Website Course Title *': '1440- دور فريق العمل في تدريب أسر الأطفال التوحديون', 'Course URL *': 'https://www.aldarayn.com/course/view.php?id=486', 'Category ID *': '22', 'Combined Category Trans': 'A variety of courses', 'Course Trans': '1440- the role of the team in the training of the families of children Autistic'}\n",
      "Unrecognized structure row {'Level 1 Topic *': None, 'Level 2 Topic *': None, 'Level 3 Topic': None, 'Level 4 Topic': None, 'Title *': '1439- إدارة الوقت', '-': None, 'Website Category Level 1 *': 'دورات متنوعة', 'Website Category Level 2': None, 'Website Course Title *': '1439- إدارة الوقت', 'Course URL *': 'https://www.aldarayn.com/course/view.php?id=485', 'Category ID *': '22', 'Combined Category Trans': 'A variety of courses', 'Course Trans': '1439- Time Management'}\n",
      "Unrecognized structure row {'Level 1 Topic *': None, 'Level 2 Topic *': None, 'Level 3 Topic': None, 'Level 4 Topic': None, 'Title *': '1438-  تعديل سلوك الاطفال', '-': None, 'Website Category Level 1 *': 'دورات متنوعة', 'Website Category Level 2': None, 'Website Course Title *': '1438-  تعديل سلوك الاطفال', 'Course URL *': 'https://www.aldarayn.com/course/view.php?id=484', 'Category ID *': '22', 'Combined Category Trans': 'A variety of courses', 'Course Trans': \"1438- modifying children's behavior\"}\n",
      "Unrecognized structure row {'Level 1 Topic *': None, 'Level 2 Topic *': None, 'Level 3 Topic': None, 'Level 4 Topic': None, 'Title *': '1437- I am smart', '-': None, 'Website Category Level 1 *': 'دورات متنوعة', 'Website Category Level 2': None, 'Website Course Title *': '1437- I am smart', 'Course URL *': 'https://www.aldarayn.com/course/view.php?id=483', 'Category ID *': '22', 'Combined Category Trans': 'A variety of courses', 'Course Trans': '1437- I am smart'}\n"
     ]
    },
    {
     "name": "stderr",
     "output_type": "stream",
     "text": [
      "Unrecognized structure row {'Level 1 Topic *': None, 'Level 2 Topic *': None, 'Level 3 Topic': None, 'Level 4 Topic': None, 'Title *': '1436- رتب حلمك الجرافيكى', '-': None, 'Website Category Level 1 *': 'دورات متنوعة', 'Website Category Level 2': None, 'Website Course Title *': '1436- رتب حلمك الجرافيكى', 'Course URL *': 'https://www.aldarayn.com/course/view.php?id=482', 'Category ID *': '22', 'Combined Category Trans': 'A variety of courses', 'Course Trans': 'Order your dream 1436- Graphic'}\n",
      "Unrecognized structure row {'Level 1 Topic *': None, 'Level 2 Topic *': None, 'Level 3 Topic': None, 'Level 4 Topic': None, 'Title *': '1435- من أول السطر', '-': None, 'Website Category Level 1 *': 'دورات متنوعة', 'Website Category Level 2': None, 'Website Course Title *': '1435- من أول السطر', 'Course URL *': 'https://www.aldarayn.com/course/view.php?id=481', 'Category ID *': '22', 'Combined Category Trans': 'A variety of courses', 'Course Trans': '1435- from the first line'}\n",
      "Unrecognized structure row {'Level 1 Topic *': None, 'Level 2 Topic *': None, 'Level 3 Topic': None, 'Level 4 Topic': None, 'Title *': '1434- لماذا يرفضون ترجمتي', '-': None, 'Website Category Level 1 *': 'دورات متنوعة', 'Website Category Level 2': None, 'Website Course Title *': '1434- لماذا يرفضون ترجمتي', 'Course URL *': 'https://www.aldarayn.com/course/view.php?id=480', 'Category ID *': '22', 'Combined Category Trans': 'A variety of courses', 'Course Trans': '1434- Why refuse my'}\n",
      "Unrecognized structure row {'Level 1 Topic *': None, 'Level 2 Topic *': None, 'Level 3 Topic': None, 'Level 4 Topic': None, 'Title *': '1433- تعلم البحث عن معلومة باحتراف', '-': None, 'Website Category Level 1 *': 'دورات متنوعة', 'Website Category Level 2': None, 'Website Course Title *': '1433- تعلم البحث عن معلومة باحتراف', 'Course URL *': 'https://www.aldarayn.com/course/view.php?id=479', 'Category ID *': '22', 'Combined Category Trans': 'A variety of courses', 'Course Trans': '1433- learn search for information professionally'}\n",
      "Unrecognized structure row {'Level 1 Topic *': None, 'Level 2 Topic *': None, 'Level 3 Topic': None, 'Level 4 Topic': None, 'Title *': '1432- التطوع الالكتروني بين الحلم والحقيقة', '-': None, 'Website Category Level 1 *': 'دورات متنوعة', 'Website Category Level 2': None, 'Website Course Title *': '1432- التطوع الالكتروني بين الحلم والحقيقة', 'Course URL *': 'https://www.aldarayn.com/course/view.php?id=478', 'Category ID *': '22', 'Combined Category Trans': 'A variety of courses', 'Course Trans': '1432- electronic volunteering between the dream and reality'}\n",
      "Unrecognized structure row {'Level 1 Topic *': None, 'Level 2 Topic *': None, 'Level 3 Topic': None, 'Level 4 Topic': None, 'Title *': '1431- إضطراب فرط الحركة ونقص الإنتباه', '-': None, 'Website Category Level 1 *': 'دورات متنوعة', 'Website Category Level 2': None, 'Website Course Title *': '1431- إضطراب فرط الحركة ونقص الإنتباه', 'Course URL *': 'https://www.aldarayn.com/course/view.php?id=477', 'Category ID *': '22', 'Combined Category Trans': 'A variety of courses', 'Course Trans': '1431- disorder hyperactivity and lack of attention'}\n",
      "Unrecognized structure row {'Level 1 Topic *': None, 'Level 2 Topic *': None, 'Level 3 Topic': None, 'Level 4 Topic': None, 'Title *': '1430- مهارات الحوار', '-': None, 'Website Category Level 1 *': 'دورات متنوعة', 'Website Category Level 2': None, 'Website Course Title *': '1430- مهارات الحوار', 'Course URL *': 'https://www.aldarayn.com/course/view.php?id=476', 'Category ID *': '22', 'Combined Category Trans': 'A variety of courses', 'Course Trans': '1430- dialogue skills'}\n",
      "Unrecognized structure row {'Level 1 Topic *': None, 'Level 2 Topic *': None, 'Level 3 Topic': None, 'Level 4 Topic': None, 'Title *': '1429- التجارة عن طريق الإنترنت', '-': None, 'Website Category Level 1 *': 'دورات متنوعة', 'Website Category Level 2': None, 'Website Course Title *': '1429- التجارة عن طريق الإنترنت', 'Course URL *': 'https://www.aldarayn.com/course/view.php?id=475', 'Category ID *': '22', 'Combined Category Trans': 'A variety of courses', 'Course Trans': 'Internet commerce 1429 by'}\n",
      "Unrecognized structure row {'Level 1 Topic *': None, 'Level 2 Topic *': None, 'Level 3 Topic': None, 'Level 4 Topic': None, 'Title *': '1428- النهوض باللغة العربية', '-': None, 'Website Category Level 1 *': 'دورات متنوعة', 'Website Category Level 2': None, 'Website Course Title *': '1428- النهوض باللغة العربية', 'Course URL *': 'https://www.aldarayn.com/course/view.php?id=474', 'Category ID *': '22', 'Combined Category Trans': 'A variety of courses', 'Course Trans': '1428 advancement in Arabic'}\n",
      "Unrecognized structure row {'Level 1 Topic *': None, 'Level 2 Topic *': None, 'Level 3 Topic': None, 'Level 4 Topic': None, 'Title *': '1427- ماهى الإعاقة الذهنية', '-': None, 'Website Category Level 1 *': 'دورات متنوعة', 'Website Category Level 2': None, 'Website Course Title *': '1427- ماهى الإعاقة الذهنية', 'Course URL *': 'https://www.aldarayn.com/course/view.php?id=473', 'Category ID *': '22', 'Combined Category Trans': 'A variety of courses', 'Course Trans': 'What mental disability 1427'}\n",
      "Unrecognized structure row {'Level 1 Topic *': None, 'Level 2 Topic *': None, 'Level 3 Topic': None, 'Level 4 Topic': None, 'Title *': '1426 - كيف تختار رئيسا', '-': None, 'Website Category Level 1 *': 'دورات متنوعة', 'Website Category Level 2': None, 'Website Course Title *': '1426 - كيف تختار رئيسا', 'Course URL *': 'https://www.aldarayn.com/course/view.php?id=472', 'Category ID *': '22', 'Combined Category Trans': 'A variety of courses', 'Course Trans': '1426 - How do you choose president'}\n",
      "Unrecognized structure row {'Level 1 Topic *': None, 'Level 2 Topic *': None, 'Level 3 Topic': None, 'Level 4 Topic': None, 'Title *': '1425- Write Right', '-': None, 'Website Category Level 1 *': 'دورات متنوعة', 'Website Category Level 2': None, 'Website Course Title *': '1425- Write Right', 'Course URL *': 'https://www.aldarayn.com/course/view.php?id=471', 'Category ID *': '22', 'Combined Category Trans': 'A variety of courses', 'Course Trans': '1425- Write Right'}\n",
      "Unrecognized structure row {'Level 1 Topic *': None, 'Level 2 Topic *': None, 'Level 3 Topic': None, 'Level 4 Topic': None, 'Title *': '1408- المهارات الإحترافيه للمسعفين', '-': None, 'Website Category Level 1 *': 'دورات متنوعة', 'Website Category Level 2': None, 'Website Course Title *': '1408- المهارات الإحترافيه للمسعفين', 'Course URL *': 'https://www.aldarayn.com/course/view.php?id=419', 'Category ID *': '22', 'Combined Category Trans': 'A variety of courses', 'Course Trans': '1408- skills professional paramedics'}\n",
      "Unrecognized structure row {'Level 1 Topic *': None, 'Level 2 Topic *': None, 'Level 3 Topic': None, 'Level 4 Topic': None, 'Title *': '1376- أصدقاء مدينة زويل', '-': None, 'Website Category Level 1 *': 'دورات متنوعة', 'Website Category Level 2': None, 'Website Course Title *': '1376- أصدقاء مدينة زويل', 'Course URL *': 'https://www.aldarayn.com/course/view.php?id=418', 'Category ID *': '22', 'Combined Category Trans': 'A variety of courses', 'Course Trans': '1376- friends Zewail City'}\n",
      "Unrecognized structure row {'Level 1 Topic *': None, 'Level 2 Topic *': None, 'Level 3 Topic': None, 'Level 4 Topic': None, 'Title *': '1387- مناقشة الابحاث العلمية', '-': None, 'Website Category Level 1 *': 'دورات متنوعة', 'Website Category Level 2': None, 'Website Course Title *': '1387- مناقشة الابحاث العلمية', 'Course URL *': 'https://www.aldarayn.com/course/view.php?id=417', 'Category ID *': '22', 'Combined Category Trans': 'A variety of courses', 'Course Trans': '1387- discuss scientific research'}\n",
      "Unrecognized structure row {'Level 1 Topic *': None, 'Level 2 Topic *': None, 'Level 3 Topic': None, 'Level 4 Topic': None, 'Title *': '1386- محاضرة لطلاب كلية الطب', '-': None, 'Website Category Level 1 *': 'دورات متنوعة', 'Website Category Level 2': None, 'Website Course Title *': '1386- محاضرة لطلاب كلية الطب', 'Course URL *': 'https://www.aldarayn.com/course/view.php?id=416', 'Category ID *': '22', 'Combined Category Trans': 'A variety of courses', 'Course Trans': '1386- lecture to students of the Faculty of Medicine'}\n",
      "Unrecognized structure row {'Level 1 Topic *': None, 'Level 2 Topic *': None, 'Level 3 Topic': None, 'Level 4 Topic': None, 'Title *': '1385- منهجية البحث العلمي', '-': None, 'Website Category Level 1 *': 'دورات متنوعة', 'Website Category Level 2': None, 'Website Course Title *': '1385- منهجية البحث العلمي', 'Course URL *': 'https://www.aldarayn.com/course/view.php?id=415', 'Category ID *': '22', 'Combined Category Trans': 'A variety of courses', 'Course Trans': '1385- Research Methodology'}\n"
     ]
    },
    {
     "name": "stderr",
     "output_type": "stream",
     "text": [
      "Unrecognized structure row {'Level 1 Topic *': None, 'Level 2 Topic *': None, 'Level 3 Topic': None, 'Level 4 Topic': None, 'Title *': '1380- اعداد ونشر الابحاث في المجلات الدولية', '-': None, 'Website Category Level 1 *': 'دورات متنوعة', 'Website Category Level 2': None, 'Website Course Title *': '1380- اعداد ونشر الابحاث في المجلات الدولية', 'Course URL *': 'https://www.aldarayn.com/course/view.php?id=414', 'Category ID *': '22', 'Combined Category Trans': 'A variety of courses', 'Course Trans': '1380- preparation and dissemination of research in international journals'}\n",
      "Unrecognized structure row {'Level 1 Topic *': None, 'Level 2 Topic *': None, 'Level 3 Topic': None, 'Level 4 Topic': None, 'Title *': '1378- الاسعافات الاولية', '-': None, 'Website Category Level 1 *': 'دورات متنوعة', 'Website Category Level 2': None, 'Website Course Title *': '1378- الاسعافات الاولية', 'Course URL *': 'https://www.aldarayn.com/course/view.php?id=413', 'Category ID *': '22', 'Combined Category Trans': 'A variety of courses', 'Course Trans': '1378- First Aid'}\n",
      "Unrecognized structure row {'Level 1 Topic *': None, 'Level 2 Topic *': None, 'Level 3 Topic': None, 'Level 4 Topic': None, 'Title *': '1354- ثورة علم - مدينة زويل', '-': None, 'Website Category Level 1 *': 'دورات متنوعة', 'Website Category Level 2': None, 'Website Course Title *': '1354- ثورة علم - مدينة زويل', 'Course URL *': 'https://www.aldarayn.com/course/view.php?id=411', 'Category ID *': '22', 'Combined Category Trans': 'A variety of courses', 'Course Trans': '1354- revolutionized science - Zewail City'}\n",
      "Unrecognized structure row {'Level 1 Topic *': None, 'Level 2 Topic *': None, 'Level 3 Topic': None, 'Level 4 Topic': None, 'Title *': '1335-  معسكر المذاكرة', '-': None, 'Website Category Level 1 *': 'دورات متنوعة', 'Website Category Level 2': None, 'Website Course Title *': '1335-  معسكر المذاكرة', 'Course URL *': 'https://www.aldarayn.com/course/view.php?id=347', 'Category ID *': '22', 'Combined Category Trans': 'A variety of courses', 'Course Trans': '1335- consultation camp'}\n",
      "Unrecognized structure row {'Level 1 Topic *': None, 'Level 2 Topic *': None, 'Level 3 Topic': None, 'Level 4 Topic': None, 'Title *': '1332- الحضارة الاسلامية المعاصرة', '-': None, 'Website Category Level 1 *': 'دورات متنوعة', 'Website Category Level 2': None, 'Website Course Title *': '1332- الحضارة الاسلامية المعاصرة', 'Course URL *': 'https://www.aldarayn.com/course/view.php?id=145', 'Category ID *': '22', 'Combined Category Trans': 'A variety of courses', 'Course Trans': 'Contemporary Islamic Civilization 1332-'}\n",
      "Unrecognized structure row {'Level 1 Topic *': None, 'Level 2 Topic *': None, 'Level 3 Topic': None, 'Level 4 Topic': None, 'Title *': '1311- الاعجاز العلمى', '-': None, 'Website Category Level 1 *': 'دورات متنوعة', 'Website Category Level 2': None, 'Website Course Title *': '1311- الاعجاز العلمى', 'Course URL *': 'https://www.aldarayn.com/course/view.php?id=152', 'Category ID *': '22', 'Combined Category Trans': 'A variety of courses', 'Course Trans': '1311- Scientific Miracles'}\n",
      "Unrecognized structure row {'Level 1 Topic *': None, 'Level 2 Topic *': None, 'Level 3 Topic': None, 'Level 4 Topic': None, 'Title *': '1306- فضفضة أونلاين', '-': None, 'Website Category Level 1 *': 'دورات متنوعة', 'Website Category Level 2': None, 'Website Course Title *': '1306- فضفضة أونلاين', 'Course URL *': 'https://www.aldarayn.com/course/view.php?id=133', 'Category ID *': '22', 'Combined Category Trans': 'A variety of courses', 'Course Trans': '1306- Vdvdah Online'}\n",
      "Unrecognized structure row {'Level 1 Topic *': None, 'Level 2 Topic *': None, 'Level 3 Topic': None, 'Level 4 Topic': None, 'Title *': '1298- الدعم الفني', '-': None, 'Website Category Level 1 *': 'دورات متنوعة', 'Website Category Level 2': None, 'Website Course Title *': '1298- الدعم الفني', 'Course URL *': 'https://www.aldarayn.com/course/view.php?id=137', 'Category ID *': '22', 'Combined Category Trans': 'A variety of courses', 'Course Trans': '1298- Technical Support'}\n",
      "Unrecognized structure row {'Level 1 Topic *': None, 'Level 2 Topic *': None, 'Level 3 Topic': None, 'Level 4 Topic': None, 'Title *': '1291- ورش عمل لفريق التسجيل بالدارين', '-': None, 'Website Category Level 1 *': 'دورات متنوعة', 'Website Category Level 2': None, 'Website Course Title *': '1291- ورش عمل لفريق التسجيل بالدارين', 'Course URL *': 'https://www.aldarayn.com/course/view.php?id=136', 'Category ID *': '22', 'Combined Category Trans': 'A variety of courses', 'Course Trans': '1291- workshops for team registration Baldaran'}\n",
      "Unrecognized structure row {'Level 1 Topic *': None, 'Level 2 Topic *': None, 'Level 3 Topic': None, 'Level 4 Topic': None, 'Title *': '1289- مهارة تعلم اللغة', '-': None, 'Website Category Level 1 *': 'دورات متنوعة', 'Website Category Level 2': None, 'Website Course Title *': '1289- مهارة تعلم اللغة', 'Course URL *': 'https://www.aldarayn.com/course/view.php?id=132', 'Category ID *': '22', 'Combined Category Trans': 'A variety of courses', 'Course Trans': '1289- skill of language learning'}\n",
      "Unrecognized structure row {'Level 1 Topic *': None, 'Level 2 Topic *': None, 'Level 3 Topic': None, 'Level 4 Topic': None, 'Title *': '1287- القسم العام', '-': None, 'Website Category Level 1 *': 'دورات متنوعة', 'Website Category Level 2': None, 'Website Course Title *': '1287- القسم العام', 'Course URL *': 'https://www.aldarayn.com/course/view.php?id=135', 'Category ID *': '22', 'Combined Category Trans': 'A variety of courses', 'Course Trans': '1287- General Section'}\n",
      "Unrecognized structure row {'Level 1 Topic *': None, 'Level 2 Topic *': None, 'Level 3 Topic': None, 'Level 4 Topic': None, 'Title *': '1192- نفسك تحلم بالنبى؟', '-': None, 'Website Category Level 1 *': 'دورات متنوعة', 'Website Category Level 2': None, 'Website Course Title *': '1192- نفسك تحلم بالنبى؟', 'Course URL *': 'https://www.aldarayn.com/course/view.php?id=153', 'Category ID *': '22', 'Combined Category Trans': 'A variety of courses', 'Course Trans': '1192- yourself dreaming Nebi?'}\n",
      "Unrecognized structure row {'Level 1 Topic *': None, 'Level 2 Topic *': None, 'Level 3 Topic': None, 'Level 4 Topic': None, 'Title *': '1019- مهارات التفكير في القراّن والسنة', '-': None, 'Website Category Level 1 *': 'دورات متنوعة', 'Website Category Level 2': None, 'Website Course Title *': '1019- مهارات التفكير في القراّن والسنة', 'Course URL *': 'https://www.aldarayn.com/course/view.php?id=50', 'Category ID *': '22', 'Combined Category Trans': 'A variety of courses', 'Course Trans': '1019. Thinking Skills in the Quran and Sunnah'}\n",
      "Unrecognized structure row {'Level 1 Topic *': None, 'Level 2 Topic *': None, 'Level 3 Topic': None, 'Level 4 Topic': None, 'Title *': '1018- مقتطفات من الحضارة الاسلامية', '-': None, 'Website Category Level 1 *': 'دورات متنوعة', 'Website Category Level 2': None, 'Website Course Title *': '1018- مقتطفات من الحضارة الاسلامية', 'Course URL *': 'https://www.aldarayn.com/course/view.php?id=49', 'Category ID *': '22', 'Combined Category Trans': 'A variety of courses', 'Course Trans': '1018. Excerpts from the Islamic Civilization'}\n",
      "Unrecognized structure row {'Level 1 Topic *': None, 'Level 2 Topic *': None, 'Level 3 Topic': None, 'Level 4 Topic': None, 'Title *': '1017- ليالي رمضانية', '-': None, 'Website Category Level 1 *': 'دورات متنوعة', 'Website Category Level 2': None, 'Website Course Title *': '1017- ليالي رمضانية', 'Course URL *': 'https://www.aldarayn.com/course/view.php?id=48', 'Category ID *': '22', 'Combined Category Trans': 'A variety of courses', 'Course Trans': '1017. Ramadan Nights'}\n",
      "Unrecognized structure row {'Level 1 Topic *': None, 'Level 2 Topic *': None, 'Level 3 Topic': None, 'Level 4 Topic': None, 'Title *': '1015-  كيف ننصر نبينا', '-': None, 'Website Category Level 1 *': 'دورات متنوعة', 'Website Category Level 2': None, 'Website Course Title *': '1015-  كيف ننصر نبينا', 'Course URL *': 'https://www.aldarayn.com/course/view.php?id=46', 'Category ID *': '22', 'Combined Category Trans': 'A variety of courses', 'Course Trans': '1015. How evangelize our Prophet'}\n",
      "Unrecognized structure row {'Level 1 Topic *': None, 'Level 2 Topic *': None, 'Level 3 Topic': None, 'Level 4 Topic': None, 'Title *': '1014- فقه النوازل', '-': None, 'Website Category Level 1 *': 'دورات متنوعة', 'Website Category Level 2': None, 'Website Course Title *': '1014- فقه النوازل', 'Course URL *': 'https://www.aldarayn.com/course/view.php?id=45', 'Category ID *': '22', 'Combined Category Trans': 'A variety of courses', 'Course Trans': '1014. jurisprudence stalactites'}\n"
     ]
    },
    {
     "name": "stderr",
     "output_type": "stream",
     "text": [
      "Unrecognized structure row {'Level 1 Topic *': None, 'Level 2 Topic *': None, 'Level 3 Topic': None, 'Level 4 Topic': None, 'Title *': '1013- شرح الأربعون النووية', '-': None, 'Website Category Level 1 *': 'دورات متنوعة', 'Website Category Level 2': None, 'Website Course Title *': '1013- شرح الأربعون النووية', 'Course URL *': 'https://www.aldarayn.com/course/view.php?id=44', 'Category ID *': '22', 'Combined Category Trans': 'A variety of courses', 'Course Trans': '1013- explain nuclear Fortieth'}\n",
      "Unrecognized structure row {'Level 1 Topic *': None, 'Level 2 Topic *': None, 'Level 3 Topic': None, 'Level 4 Topic': None, 'Title *': '1012- سلسلة التنمية المحمدية', '-': None, 'Website Category Level 1 *': 'دورات متنوعة', 'Website Category Level 2': None, 'Website Course Title *': '1012- سلسلة التنمية المحمدية', 'Course URL *': 'https://www.aldarayn.com/course/view.php?id=29', 'Category ID *': '22', 'Combined Category Trans': 'A variety of courses', 'Course Trans': '1012. Muhammadiyah Development Series'}\n",
      "Unrecognized structure row {'Level 1 Topic *': None, 'Level 2 Topic *': None, 'Level 3 Topic': None, 'Level 4 Topic': None, 'Title *': '1011-  رمضان وبناء الإنسان', '-': None, 'Website Category Level 1 *': 'دورات متنوعة', 'Website Category Level 2': None, 'Website Course Title *': '1011-  رمضان وبناء الإنسان', 'Course URL *': 'https://www.aldarayn.com/course/view.php?id=28', 'Category ID *': '22', 'Combined Category Trans': 'A variety of courses', 'Course Trans': '1011. Ramadan and building human'}\n",
      "Unrecognized structure row {'Level 1 Topic *': None, 'Level 2 Topic *': None, 'Level 3 Topic': None, 'Level 4 Topic': None, 'Title *': '1010-  رمضان بابك للجنة', '-': None, 'Website Category Level 1 *': 'دورات متنوعة', 'Website Category Level 2': None, 'Website Course Title *': '1010-  رمضان بابك للجنة', 'Course URL *': 'https://www.aldarayn.com/course/view.php?id=27', 'Category ID *': '22', 'Combined Category Trans': 'A variety of courses', 'Course Trans': '1010. Ramadan Babak Committee'}\n",
      "Unrecognized structure row {'Level 1 Topic *': None, 'Level 2 Topic *': None, 'Level 3 Topic': None, 'Level 4 Topic': None, 'Title *': '1009-  دورة الفقة المقارن', '-': None, 'Website Category Level 1 *': 'دورات متنوعة', 'Website Category Level 2': None, 'Website Course Title *': '1009-  دورة الفقة المقارن', 'Course URL *': 'https://www.aldarayn.com/course/view.php?id=26', 'Category ID *': '22', 'Combined Category Trans': 'A variety of courses', 'Course Trans': '1009. Comparative Jurisprudence Course'}\n",
      "Unrecognized structure row {'Level 1 Topic *': None, 'Level 2 Topic *': None, 'Level 3 Topic': None, 'Level 4 Topic': None, 'Title *': '1005-  الزواج في الإسلام', '-': None, 'Website Category Level 1 *': 'دورات متنوعة', 'Website Category Level 2': None, 'Website Course Title *': '1005-  الزواج في الإسلام', 'Course URL *': 'https://www.aldarayn.com/course/view.php?id=22', 'Category ID *': '22', 'Combined Category Trans': 'A variety of courses', 'Course Trans': '1005. Marriage in Islam'}\n",
      "Unrecognized structure row {'Level 1 Topic *': None, 'Level 2 Topic *': None, 'Level 3 Topic': None, 'Level 4 Topic': None, 'Title *': '1004- الاعجاز العلمي في الوضوء من الناحيه الطبيه', '-': None, 'Website Category Level 1 *': 'دورات متنوعة', 'Website Category Level 2': None, 'Website Course Title *': '1004- الاعجاز العلمي في الوضوء من الناحيه الطبيه', 'Course URL *': 'https://www.aldarayn.com/course/view.php?id=21', 'Category ID *': '22', 'Combined Category Trans': 'A variety of courses', 'Course Trans': '1004. Scientific Miracles in the ablution of the medical'}\n",
      "Unrecognized structure row {'Level 1 Topic *': None, 'Level 2 Topic *': None, 'Level 3 Topic': None, 'Level 4 Topic': None, 'Title *': '1002- أخلاقيات العمل فى الإسلام', '-': None, 'Website Category Level 1 *': 'دورات متنوعة', 'Website Category Level 2': None, 'Website Course Title *': '1002- أخلاقيات العمل فى الإسلام', 'Course URL *': 'https://www.aldarayn.com/course/view.php?id=19', 'Category ID *': '22', 'Combined Category Trans': 'A variety of courses', 'Course Trans': '1002. work ethic in Islam'}\n",
      "Unrecognized structure row {'Level 1 Topic *': None, 'Level 2 Topic *': None, 'Level 3 Topic': None, 'Level 4 Topic': None, 'Title *': '1001- أخلاقيات الزواج', '-': None, 'Website Category Level 1 *': 'دورات متنوعة', 'Website Category Level 2': None, 'Website Course Title *': '1001- أخلاقيات الزواج', 'Course URL *': 'https://www.aldarayn.com/course/view.php?id=17', 'Category ID *': '22', 'Combined Category Trans': 'A variety of courses', 'Course Trans': '1001. The ethics of marriage'}\n",
      "Unrecognized structure row {'Level 1 Topic *': None, 'Level 2 Topic *': None, 'Level 3 Topic': None, 'Level 4 Topic': None, 'Title *': '1003- الإقتصاد الإسلامي وتطبيقاته', '-': None, 'Website Category Level 1 *': 'دورات متنوعة', 'Website Category Level 2': None, 'Website Course Title *': '1003- الإقتصاد الإسلامي وتطبيقاته', 'Course URL *': 'https://www.aldarayn.com/course/view.php?id=20', 'Category ID *': '22', 'Combined Category Trans': 'A variety of courses', 'Course Trans': '1003. Islamic economics and its applications'}\n"
     ]
    }
   ],
   "source": [
    "struct_list = load_aldarayn_structure()"
   ]
  },
  {
   "cell_type": "code",
   "execution_count": 3,
   "metadata": {},
   "outputs": [
    {
     "data": {
      "text/plain": [
       "479"
      ]
     },
     "execution_count": 3,
     "metadata": {},
     "output_type": "execute_result"
    }
   ],
   "source": [
    "len(struct_list)"
   ]
  },
  {
   "cell_type": "code",
   "execution_count": 4,
   "metadata": {},
   "outputs": [],
   "source": [
    "from itertools import groupby\n",
    "from operator import itemgetter\n",
    "from functools import cmp_to_key  # we'll use old-school cmp method style of comparison\n",
    "# see https://docs.python.org/3/howto/sorting.html#the-old-way-using-the-cmp-parameter\n",
    "\n",
    "\n",
    "def aldarayn_sort(itemA, itemB):\n",
    "    \"\"\"\n",
    "    Returns sort order according to `keys`\n",
    "    \"\"\"\n",
    "    keys = [L1_KEY, L2_KEY, L3_KEY, L4_KEY, TITLE_KEY]\n",
    "    for key in keys:\n",
    "\n",
    "        # if both keys exist\n",
    "        if itemA[key] and itemB[key]:\n",
    "            if itemA[key] == itemB[key]: # if keys are the same, check next key\n",
    "                continue \n",
    "            elif itemA[key] < itemB[key]:\n",
    "                return -1\n",
    "            elif itemA[key] > itemB[key]:\n",
    "                return 1\n",
    "\n",
    "        # subfolders first\n",
    "        if itemA[key] and not itemB[key]:\n",
    "            return -1\n",
    "        if not itemA[key] and itemB[key]:\n",
    "            return 1\n",
    "        \n",
    "        # return 0 if both same\n",
    "        if not itemA[key] and not itemB[key]:\n",
    "            return 0\n",
    "\n",
    "\n",
    "struct_list = sorted(struct_list, key=cmp_to_key(aldarayn_sort))\n"
   ]
  },
  {
   "cell_type": "code",
   "execution_count": 5,
   "metadata": {},
   "outputs": [
    {
     "data": {
      "text/plain": [
       "479"
      ]
     },
     "execution_count": 5,
     "metadata": {},
     "output_type": "execute_result"
    }
   ],
   "source": [
    "len(struct_list)"
   ]
  },
  {
   "cell_type": "code",
   "execution_count": 6,
   "metadata": {},
   "outputs": [],
   "source": [
    "def sane_group_by(items, key):\n",
    "    \"\"\"\n",
    "    Wrapper for itertools.groupby to make it easier to use.\n",
    "    Returns a dict with keys = possible values of key in items\n",
    "    and corresponding values being lists of items that have that key.\n",
    "    \"\"\"\n",
    "    return dict((k, list(g)) for k, g in groupby(items, key=itemgetter(key)))\n"
   ]
  },
  {
   "cell_type": "code",
   "execution_count": 20,
   "metadata": {},
   "outputs": [],
   "source": []
  },
  {
   "cell_type": "code",
   "execution_count": null,
   "metadata": {},
   "outputs": [],
   "source": []
  },
  {
   "cell_type": "code",
   "execution_count": 8,
   "metadata": {
    "scrolled": false
   },
   "outputs": [
    {
     "name": "stdout",
     "output_type": "stream",
     "text": [
      "Education level التعلم المستمر\n",
      "   - subject = 'التنمية البشرية' a 152 courses 0 subfolders\n",
      "   - subject = 'العلوم اللغوية' a 0 courses 9 subfolders\n",
      "       - L3_topic = 'اللغة الأسبانية' 2 courses 0 subfolders\n",
      "       - L3_topic = 'اللغة الألمانية' 4 courses 0 subfolders\n",
      "       - L3_topic = 'اللغة الإنجليزية' 11 courses 0 subfolders\n",
      "       - L3_topic = 'اللغة الإيطالية' 5 courses 0 subfolders\n",
      "       - L3_topic = 'اللغة التركية' 1 courses 0 subfolders\n",
      "       - L3_topic = 'اللغة الروسية' 1 courses 0 subfolders\n",
      "       - L3_topic = 'اللغة العربية' 2 courses 0 subfolders\n",
      "       - L3_topic = 'اللغة الفرنسية' 3 courses 0 subfolders\n",
      "       - L3_topic = 'اللغة اليابانية' 1 courses 0 subfolders\n",
      "   - subject = 'المحاسبة وإدارة الأعمال' a 36 courses 0 subfolders\n",
      "   - subject = 'علوم الحاسب الآلي' a 107 courses 0 subfolders\n",
      "Education level دروس المرحلة الجامعية\n",
      "   - subject = 'الإدارة العامة' a 6 courses 0 subfolders\n",
      "   - subject = 'التربية الخاصة' a 51 courses 0 subfolders\n",
      "   - subject = 'العلوم الزراعية' a 2 courses 0 subfolders\n",
      "   - subject = 'العلوم الهندسية' a 54 courses 0 subfolders\n",
      "Education level دروس طلاب المدارس\n",
      "   - subject = 'المرحلة الإعدادية' a 0 courses 4 subfolders\n",
      "       - L3_topic = 'الحاسب الآلي' 6 courses 0 subfolders\n",
      "       - L3_topic = 'الرياضيات' 4 courses 0 subfolders\n",
      "       - L3_topic = 'العلوم' 12 courses 0 subfolders\n",
      "       - L3_topic = 'النحو وقواعد اللغة العربية' 4 courses 0 subfolders\n",
      "   - subject = 'المرحلة الابتدائية' a 0 courses 2 subfolders\n",
      "       - L3_topic = 'الرياضيات' 1 courses 0 subfolders\n",
      "       - L3_topic = 'العلوم' 4 courses 0 subfolders\n",
      "   - subject = 'المرحلة الثانوية' a 0 courses 4 subfolders\n",
      "       - L3_topic = 'الحاسب الآلي' 1 courses 0 subfolders\n",
      "       - L3_topic = 'الرياضيات' 1 courses 0 subfolders\n",
      "       - L3_topic = 'العلوم' 0 courses 3 subfolders\n",
      "            - L4_topic = 'الأحياء' - 1 items\n",
      "            - L4_topic = 'الفيزياء' - 3 items\n",
      "            - L4_topic = 'الكيمياء' - 3 items\n",
      "       - L3_topic = 'النحو وقواعد اللغة العربية' 1 courses 0 subfolders\n"
     ]
    }
   ],
   "source": [
    "struct_list = sorted(struct_list, key=cmp_to_key(aldarayn_sort))\n",
    "edu_level_dict = sane_group_by(struct_list, L1_KEY)\n",
    "for edu_level, items_in_edu_level in edu_level_dict.items():\n",
    "\n",
    "    print('Education level', edu_level)\n",
    "    subjects_dict = sane_group_by(items_in_edu_level, L2_KEY)    \n",
    "    for subject, items_in_subject in subjects_dict.items():\n",
    "        L3_topics_dict = sane_group_by(items_in_subject, L3_KEY)\n",
    "        no_L3_items = L3_topics_dict.get(None, [])\n",
    "        if no_L3_items:\n",
    "            del L3_topics_dict[None]\n",
    "        print('   - subject =', repr(subject), 'a', \\\n",
    "                    len(no_L3_items), 'courses', \\\n",
    "                    len(L3_topics_dict.keys()), 'subfolders')\n",
    "\n",
    "        for L3_topic, items_in_L3_topic in L3_topics_dict.items():\n",
    "            \n",
    "            L4_topics_dict = sane_group_by(items_in_L3_topic, L4_KEY)\n",
    "            no_L4_items = L4_topics_dict.get(None, [])\n",
    "            if no_L4_items:\n",
    "                del L4_topics_dict[None]\n",
    "            print('       - L3_topic =', repr(L3_topic),\n",
    "                            # '=', items_in_L3_topic[0][CATEGORY_TRANS_KEY],\n",
    "                            len(no_L4_items), 'courses',\n",
    "                            len(L4_topics_dict.keys()), 'subfolders')\n",
    "            \n",
    "            for L4_topic, items_in_L4_topic in L4_topics_dict.items():\n",
    "                    print('            - L4_topic =', repr(L4_topic), '-', \n",
    "                                          # '=', items_in_L4_topic[0][CATEGORY_TRANS_KEY], \n",
    "                                          len(items_in_L4_topic), 'items')\n",
    "\n",
    "\n"
   ]
  },
  {
   "cell_type": "code",
   "execution_count": null,
   "metadata": {},
   "outputs": [],
   "source": []
  },
  {
   "cell_type": "code",
   "execution_count": null,
   "metadata": {},
   "outputs": [],
   "source": []
  }
 ],
 "metadata": {
  "kernelspec": {
   "display_name": "Python 3",
   "language": "python",
   "name": "python3"
  },
  "language_info": {
   "codemirror_mode": {
    "name": "ipython",
    "version": 3
   },
   "file_extension": ".py",
   "mimetype": "text/x-python",
   "name": "python",
   "nbconvert_exporter": "python",
   "pygments_lexer": "ipython3",
   "version": "3.6.5"
  }
 },
 "nbformat": 4,
 "nbformat_minor": 2
}
