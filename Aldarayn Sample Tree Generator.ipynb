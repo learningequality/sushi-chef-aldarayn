{
 "cells": [
  {
   "cell_type": "code",
   "execution_count": 5,
   "metadata": {},
   "outputs": [],
   "source": [
    "from csvstructure import load_aldarayn_structure\n",
    "\n"
   ]
  },
  {
   "cell_type": "code",
   "execution_count": null,
   "metadata": {
    "scrolled": false
   },
   "outputs": [],
   "source": [
    "ALDARAYN_STRUCT_LIST = load_aldarayn_structure()"
   ]
  },
  {
   "cell_type": "code",
   "execution_count": 3,
   "metadata": {},
   "outputs": [
    {
     "data": {
      "text/plain": [
       "479"
      ]
     },
     "execution_count": 3,
     "metadata": {},
     "output_type": "execute_result"
    }
   ],
   "source": [
    "len(ALDARAYN_STRUCT_LIST)"
   ]
  },
  {
   "cell_type": "code",
   "execution_count": null,
   "metadata": {},
   "outputs": [],
   "source": []
  },
  {
   "cell_type": "code",
   "execution_count": null,
   "metadata": {},
   "outputs": [],
   "source": []
  },
  {
   "cell_type": "code",
   "execution_count": null,
   "metadata": {},
   "outputs": [],
   "source": []
  },
  {
   "cell_type": "code",
   "execution_count": 20,
   "metadata": {},
   "outputs": [],
   "source": []
  },
  {
   "cell_type": "code",
   "execution_count": null,
   "metadata": {},
   "outputs": [],
   "source": []
  },
  {
   "cell_type": "code",
   "execution_count": 4,
   "metadata": {
    "scrolled": false
   },
   "outputs": [
    {
     "name": "stdout",
     "output_type": "stream",
     "text": [
      "Education level التعلم المستمر\n",
      "   - subject = 'التنمية البشرية' a 152 courses 0 subfolders\n",
      "   - subject = 'العلوم اللغوية' a 0 courses 9 subfolders\n",
      "       - L3_topic = 'اللغة الأسبانية' 2 courses 0 subfolders\n",
      "       - L3_topic = 'اللغة الألمانية' 4 courses 0 subfolders\n",
      "       - L3_topic = 'اللغة الإنجليزية' 11 courses 0 subfolders\n",
      "       - L3_topic = 'اللغة الإيطالية' 5 courses 0 subfolders\n",
      "       - L3_topic = 'اللغة التركية' 1 courses 0 subfolders\n",
      "       - L3_topic = 'اللغة الروسية' 1 courses 0 subfolders\n",
      "       - L3_topic = 'اللغة العربية' 2 courses 0 subfolders\n",
      "       - L3_topic = 'اللغة الفرنسية' 3 courses 0 subfolders\n",
      "       - L3_topic = 'اللغة اليابانية' 1 courses 0 subfolders\n",
      "   - subject = 'المحاسبة وإدارة الأعمال' a 36 courses 0 subfolders\n",
      "   - subject = 'علوم الحاسب الآلي' a 107 courses 0 subfolders\n",
      "Education level دروس المرحلة الجامعية\n",
      "   - subject = 'الإدارة العامة' a 6 courses 0 subfolders\n",
      "   - subject = 'التربية الخاصة' a 51 courses 0 subfolders\n",
      "   - subject = 'العلوم الزراعية' a 2 courses 0 subfolders\n",
      "   - subject = 'العلوم الهندسية' a 54 courses 0 subfolders\n",
      "Education level دروس طلاب المدارس\n",
      "   - subject = 'المرحلة الإعدادية' a 0 courses 4 subfolders\n",
      "       - L3_topic = 'الحاسب الآلي' 6 courses 0 subfolders\n",
      "       - L3_topic = 'الرياضيات' 4 courses 0 subfolders\n",
      "       - L3_topic = 'العلوم' 12 courses 0 subfolders\n",
      "       - L3_topic = 'النحو وقواعد اللغة العربية' 4 courses 0 subfolders\n",
      "   - subject = 'المرحلة الابتدائية' a 0 courses 2 subfolders\n",
      "       - L3_topic = 'الرياضيات' 1 courses 0 subfolders\n",
      "       - L3_topic = 'العلوم' 4 courses 0 subfolders\n",
      "   - subject = 'المرحلة الثانوية' a 0 courses 4 subfolders\n",
      "       - L3_topic = 'الحاسب الآلي' 1 courses 0 subfolders\n",
      "       - L3_topic = 'الرياضيات' 1 courses 0 subfolders\n",
      "       - L3_topic = 'العلوم' 0 courses 3 subfolders\n",
      "            - L4_topic = 'الأحياء' - 1 items\n",
      "            - L4_topic = 'الفيزياء' - 3 items\n",
      "            - L4_topic = 'الكيمياء' - 3 items\n",
      "       - L3_topic = 'النحو وقواعد اللغة العربية' 1 courses 0 subfolders\n"
     ]
    }
   ],
   "source": [
    "from csvstructure import print_aldarayn_structure\n",
    "\n",
    "print_aldarayn_structure(ALDARAYN_STRUCT_LIST)"
   ]
  },
  {
   "cell_type": "code",
   "execution_count": null,
   "metadata": {},
   "outputs": [],
   "source": []
  },
  {
   "cell_type": "code",
   "execution_count": null,
   "metadata": {},
   "outputs": [],
   "source": []
  }
 ],
 "metadata": {
  "kernelspec": {
   "display_name": "Python 3",
   "language": "python",
   "name": "python3"
  },
  "language_info": {
   "codemirror_mode": {
    "name": "ipython",
    "version": 3
   },
   "file_extension": ".py",
   "mimetype": "text/x-python",
   "name": "python",
   "nbconvert_exporter": "python",
   "pygments_lexer": "ipython3",
   "version": "3.6.5"
  }
 },
 "nbformat": 4,
 "nbformat_minor": 2
}
